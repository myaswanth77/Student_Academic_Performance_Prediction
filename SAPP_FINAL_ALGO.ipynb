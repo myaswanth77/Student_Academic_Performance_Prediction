{
 "cells": [
  {
   "cell_type": "code",
   "execution_count": 1,
   "id": "2021703b",
   "metadata": {},
   "outputs": [],
   "source": [
    "import pandas as pd\n",
    "import numpy as np\n",
    "import matplotlib.pyplot as plt\n",
    "%matplotlib inline\n",
    "\n",
    "pd.set_option('display.max_columns', None)\n",
    "# pd.set_option('display.max_rows', None)"
   ]
  },
  {
   "cell_type": "code",
   "execution_count": 2,
   "id": "454f24e0",
   "metadata": {},
   "outputs": [],
   "source": [
    "from sklearn.model_selection import train_test_split\n",
    "from sklearn.compose import ColumnTransformer,make_column_transformer\n",
    "from sklearn.impute import SimpleImputer\n",
    "from sklearn.preprocessing import OneHotEncoder, MinMaxScaler,OrdinalEncoder,FunctionTransformer\n",
    "from sklearn.pipeline import Pipeline, make_pipeline\n",
    "from sklearn.feature_selection import SelectKBest, chi2\n",
    "from sklearn.preprocessing import StandardScaler,RobustScaler, QuantileTransformer\n",
    "from sklearn.model_selection import train_test_split\n",
    "from sklearn.linear_model import LinearRegression\n",
    "from sklearn.ensemble import RandomForestRegressor\n",
    "from sklearn.model_selection import cross_val_score, train_test_split\n",
    "from sklearn.feature_selection import SelectKBest, mutual_info_regression\n",
    "\n",
    "import seaborn as sns\n"
   ]
  },
  {
   "cell_type": "code",
   "execution_count": 3,
   "id": "8a04e5e3",
   "metadata": {},
   "outputs": [],
   "source": [
    "# load the data\n",
    "df = pd.read_csv(\"Student_dataset_3.csv\")\n",
    "\n",
    "# rename the columns\n",
    "df.columns=['RollNo','Gender','Age','Location','Famsize','Pstatus','Medu','Fedu','Mjob','Fjob','reason','traveltime','studytime','Failures','Famsup','Paid','Activities','HigherEdu','Internet','Famrel','Freetime','GoOut','Health','10th%','12thordiploma%','EAMCETorECETrank','Internal','Prev cgpa','sgpa']\n",
    "\n",
    "# remove duplicates \n",
    "df = df.drop_duplicates()\n",
    "\n",
    "\n"
   ]
  },
  {
   "cell_type": "code",
   "execution_count": 4,
   "id": "6fcab2b8",
   "metadata": {},
   "outputs": [],
   "source": [
    "df['Eamcet Rank'] = 0\n",
    "df['Ecet Rank'] = 0\n",
    "\n",
    "df.loc[~df['RollNo'].str.contains('L'), 'Eamcet Rank'] = df.loc[~df['RollNo'].str.contains('L'), 'EAMCETorECETrank']\n",
    "df.loc[df['RollNo'].str.contains('L'), 'Ecet Rank'] = df.loc[df['RollNo'].str.contains('L'), 'EAMCETorECETrank']\n",
    "df.drop('EAMCETorECETrank', axis=1, inplace=True)\n"
   ]
  },
  {
   "cell_type": "code",
   "execution_count": 5,
   "id": "b8da60ca",
   "metadata": {},
   "outputs": [],
   "source": [
    "df['Prev cgpa'] = df['Prev cgpa'].replace(0, 5.5)\n",
    "df['sgpa'] = df['sgpa'].replace(0, 5.5)\n",
    "df['Total_eamcet/ecet_grade'] = 0\n"
   ]
  },
  {
   "cell_type": "code",
   "execution_count": 6,
   "id": "46a406fa",
   "metadata": {},
   "outputs": [],
   "source": [
    "df['Fedu'] = df['Fedu'].replace('primary education (4th grade)', 'primary education( 4th grade )')"
   ]
  },
  {
   "cell_type": "code",
   "execution_count": 7,
   "id": "b33fd73c",
   "metadata": {},
   "outputs": [],
   "source": [
    "df['traveltime'] = df['traveltime'].replace('<1hr', '>1hr')"
   ]
  },
  {
   "cell_type": "code",
   "execution_count": 8,
   "id": "e8f248d3",
   "metadata": {},
   "outputs": [
    {
     "data": {
      "text/html": [
       "<div>\n",
       "<style scoped>\n",
       "    .dataframe tbody tr th:only-of-type {\n",
       "        vertical-align: middle;\n",
       "    }\n",
       "\n",
       "    .dataframe tbody tr th {\n",
       "        vertical-align: top;\n",
       "    }\n",
       "\n",
       "    .dataframe thead th {\n",
       "        text-align: right;\n",
       "    }\n",
       "</style>\n",
       "<table border=\"1\" class=\"dataframe\">\n",
       "  <thead>\n",
       "    <tr style=\"text-align: right;\">\n",
       "      <th></th>\n",
       "      <th>RollNo</th>\n",
       "      <th>Gender</th>\n",
       "      <th>Age</th>\n",
       "      <th>Location</th>\n",
       "      <th>Famsize</th>\n",
       "      <th>Pstatus</th>\n",
       "      <th>Medu</th>\n",
       "      <th>Fedu</th>\n",
       "      <th>Mjob</th>\n",
       "      <th>Fjob</th>\n",
       "      <th>reason</th>\n",
       "      <th>traveltime</th>\n",
       "      <th>studytime</th>\n",
       "      <th>Failures</th>\n",
       "      <th>Famsup</th>\n",
       "      <th>Paid</th>\n",
       "      <th>Activities</th>\n",
       "      <th>HigherEdu</th>\n",
       "      <th>Internet</th>\n",
       "      <th>Famrel</th>\n",
       "      <th>Freetime</th>\n",
       "      <th>GoOut</th>\n",
       "      <th>Health</th>\n",
       "      <th>10th%</th>\n",
       "      <th>12thordiploma%</th>\n",
       "      <th>Internal</th>\n",
       "      <th>Prev cgpa</th>\n",
       "      <th>sgpa</th>\n",
       "      <th>Eamcet Rank</th>\n",
       "      <th>Ecet Rank</th>\n",
       "      <th>Total_eamcet/ecet_grade</th>\n",
       "    </tr>\n",
       "  </thead>\n",
       "  <tbody>\n",
       "    <tr>\n",
       "      <th>0</th>\n",
       "      <td>319126510001</td>\n",
       "      <td>FEMALE</td>\n",
       "      <td>21</td>\n",
       "      <td>Urban</td>\n",
       "      <td>5</td>\n",
       "      <td>T</td>\n",
       "      <td>higher education</td>\n",
       "      <td>higher education</td>\n",
       "      <td>Homemaker</td>\n",
       "      <td>civil services: administrative or police</td>\n",
       "      <td>Other</td>\n",
       "      <td>30min - 1hr</td>\n",
       "      <td>1- &lt;2 hr</td>\n",
       "      <td>0</td>\n",
       "      <td>Yes</td>\n",
       "      <td>No</td>\n",
       "      <td>Yes</td>\n",
       "      <td>No</td>\n",
       "      <td>Yes</td>\n",
       "      <td>excellent</td>\n",
       "      <td>high</td>\n",
       "      <td>3 - medium</td>\n",
       "      <td>5 - very good</td>\n",
       "      <td>93.1</td>\n",
       "      <td>96.3</td>\n",
       "      <td>90.23</td>\n",
       "      <td>9.4</td>\n",
       "      <td>8.93</td>\n",
       "      <td>18238.0</td>\n",
       "      <td>0</td>\n",
       "      <td>0</td>\n",
       "    </tr>\n",
       "  </tbody>\n",
       "</table>\n",
       "</div>"
      ],
      "text/plain": [
       "         RollNo  Gender  Age Location  Famsize Pstatus              Medu  \\\n",
       "0  319126510001  FEMALE   21    Urban        5       T  higher education   \n",
       "\n",
       "               Fedu       Mjob                                      Fjob  \\\n",
       "0  higher education  Homemaker  civil services: administrative or police   \n",
       "\n",
       "  reason   traveltime studytime  Failures Famsup Paid Activities HigherEdu  \\\n",
       "0  Other  30min - 1hr  1- <2 hr         0    Yes   No        Yes        No   \n",
       "\n",
       "  Internet     Famrel Freetime       GoOut         Health  10th%  \\\n",
       "0      Yes  excellent     high  3 - medium  5 - very good   93.1   \n",
       "\n",
       "   12thordiploma%  Internal  Prev cgpa  sgpa  Eamcet Rank  Ecet Rank  \\\n",
       "0            96.3     90.23        9.4  8.93      18238.0          0   \n",
       "\n",
       "   Total_eamcet/ecet_grade  \n",
       "0                        0  "
      ]
     },
     "execution_count": 8,
     "metadata": {},
     "output_type": "execute_result"
    }
   ],
   "source": [
    "df.head(1)"
   ]
  },
  {
   "cell_type": "code",
   "execution_count": null,
   "id": "756b14ce",
   "metadata": {},
   "outputs": [],
   "source": []
  },
  {
   "cell_type": "code",
   "execution_count": 9,
   "id": "7a894d7a",
   "metadata": {},
   "outputs": [],
   "source": [
    "df.to_csv(\"cleaned_dataset.csv\")"
   ]
  },
  {
   "cell_type": "raw",
   "id": "e92d56e8",
   "metadata": {},
   "source": [
    "# assume the DataFrame is stored in a variable called \"df\"\n",
    "unique_values = {}\n",
    "for column in df.columns:\n",
    "    unique_values[column] = df[column].unique()\n",
    "\n",
    "# print the unique values for each column\n",
    "for column, values in unique_values.items():\n",
    "    print(f\"Column '{column}': {values}\")\n"
   ]
  },
  {
   "cell_type": "code",
   "execution_count": 10,
   "id": "b7d728c0",
   "metadata": {},
   "outputs": [
    {
     "name": "stdout",
     "output_type": "stream",
     "text": [
      "Column 'Gender': ['FEMALE' 'MALE']\n",
      "\n",
      "Column 'Age': [21 22 20]\n",
      "\n",
      "Column 'Location': ['Urban' 'Rural']\n",
      "\n",
      "Column 'Famsize': [5 4 3 2 6 8 9]\n",
      "\n",
      "Column 'Pstatus': ['T' 'A']\n",
      "\n",
      "Column 'Medu': ['higher education' '5th to 9th grade' 'secondary education' 'None'\n",
      " 'primary education( 4th grade )']\n",
      "\n",
      "Column 'Fedu': ['higher education' 'secondary education' '5th to 9th grade'\n",
      " 'primary education( 4th grade )' 'None']\n",
      "\n",
      "Column 'Mjob': ['Homemaker' \"nominal: 'teacher', 'health' care related\"\n",
      " 'civil services: administrative or police']\n",
      "\n",
      "Column 'Fjob': ['civil services: administrative or police'\n",
      " \"nominal: 'teacher', 'health' care related\" 'Homemaker']\n",
      "\n",
      "Column 'reason': ['Other' 'Course preference' \"Institution's reputation\" 'close to home']\n",
      "\n",
      "Column 'traveltime': ['30min - 1hr' '>1hr' '15 - 30 min' '<15 min']\n",
      "\n",
      "Column 'studytime': ['1- <2 hr' '2 to 5 hr' '>10 hr' '5 to 10 hr']\n",
      "\n",
      "Column 'Failures': [0 2 3 9 5 4 1]\n",
      "\n",
      "Column 'Famsup': ['Yes' 'No']\n",
      "\n",
      "Column 'Paid': ['No' 'Yes']\n",
      "\n",
      "Column 'Activities': ['Yes' 'No']\n",
      "\n",
      "Column 'HigherEdu': ['No' 'Yes']\n",
      "\n",
      "Column 'Internet': ['Yes' 'No']\n",
      "\n",
      "Column 'Famrel': ['excellent' 'Very good' 'Good' 'Bad']\n",
      "\n",
      "Column 'Freetime': ['high' 'very low' 'low' 'very high']\n",
      "\n",
      "Column 'GoOut': ['3 - medium' '2 - low' '1 - very low' '4 - high' '5 - very high']\n",
      "\n",
      "Column 'Health': ['5 - very good' '4 - good' '3 - average' '2- bad' '1 - very bad']\n",
      "\n",
      "Column 'Total_eamcet/ecet_grade': [0]\n",
      "\n"
     ]
    }
   ],
   "source": [
    "\n",
    "# assume the DataFrame is stored in a variable called \"df\"\n",
    "unique_values = {}\n",
    "for column in df.columns:\n",
    "    values = df[column].unique()\n",
    "    if len(values) < 10:\n",
    "        unique_values[column] = values\n",
    "\n",
    "# print the unique values for each column\n",
    "for column, values in unique_values.items():\n",
    "    print(f\"Column '{column}': {values}\")\n",
    "    print()\n"
   ]
  },
  {
   "cell_type": "code",
   "execution_count": 11,
   "id": "11ad5932",
   "metadata": {},
   "outputs": [],
   "source": [
    "X = df.drop('sgpa', axis=1)\n",
    "y = df['sgpa']\n",
    "\n",
    "X_train,X_test,y_train,y_test=train_test_split(df.drop(columns=['sgpa']),df['sgpa'],test_size=0.2,random_state=42)\n"
   ]
  },
  {
   "cell_type": "code",
   "execution_count": 12,
   "id": "23969cfd",
   "metadata": {},
   "outputs": [
    {
     "data": {
      "text/plain": [
       "Index(['RollNo', 'Gender', 'Age', 'Location', 'Famsize', 'Pstatus', 'Medu',\n",
       "       'Fedu', 'Mjob', 'Fjob', 'reason', 'traveltime', 'studytime', 'Failures',\n",
       "       'Famsup', 'Paid', 'Activities', 'HigherEdu', 'Internet', 'Famrel',\n",
       "       'Freetime', 'GoOut', 'Health', '10th%', '12thordiploma%', 'Internal',\n",
       "       'Prev cgpa', 'Eamcet Rank', 'Ecet Rank', 'Total_eamcet/ecet_grade'],\n",
       "      dtype='object')"
      ]
     },
     "execution_count": 12,
     "metadata": {},
     "output_type": "execute_result"
    }
   ],
   "source": [
    "X.columns"
   ]
  },
  {
   "cell_type": "code",
   "execution_count": 13,
   "id": "e119a0a0",
   "metadata": {},
   "outputs": [
    {
     "data": {
      "text/html": [
       "<div>\n",
       "<style scoped>\n",
       "    .dataframe tbody tr th:only-of-type {\n",
       "        vertical-align: middle;\n",
       "    }\n",
       "\n",
       "    .dataframe tbody tr th {\n",
       "        vertical-align: top;\n",
       "    }\n",
       "\n",
       "    .dataframe thead th {\n",
       "        text-align: right;\n",
       "    }\n",
       "</style>\n",
       "<table border=\"1\" class=\"dataframe\">\n",
       "  <thead>\n",
       "    <tr style=\"text-align: right;\">\n",
       "      <th></th>\n",
       "      <th>RollNo</th>\n",
       "      <th>Gender</th>\n",
       "      <th>Age</th>\n",
       "      <th>Location</th>\n",
       "      <th>Famsize</th>\n",
       "      <th>Pstatus</th>\n",
       "      <th>Medu</th>\n",
       "      <th>Fedu</th>\n",
       "      <th>Mjob</th>\n",
       "      <th>Fjob</th>\n",
       "      <th>reason</th>\n",
       "      <th>traveltime</th>\n",
       "      <th>studytime</th>\n",
       "      <th>Failures</th>\n",
       "      <th>Famsup</th>\n",
       "      <th>Paid</th>\n",
       "      <th>Activities</th>\n",
       "      <th>HigherEdu</th>\n",
       "      <th>Internet</th>\n",
       "      <th>Famrel</th>\n",
       "      <th>Freetime</th>\n",
       "      <th>GoOut</th>\n",
       "      <th>Health</th>\n",
       "      <th>10th%</th>\n",
       "      <th>12thordiploma%</th>\n",
       "      <th>Internal</th>\n",
       "      <th>Prev cgpa</th>\n",
       "      <th>Eamcet Rank</th>\n",
       "      <th>Ecet Rank</th>\n",
       "      <th>Total_eamcet/ecet_grade</th>\n",
       "    </tr>\n",
       "  </thead>\n",
       "  <tbody>\n",
       "    <tr>\n",
       "      <th>0</th>\n",
       "      <td>319126510001</td>\n",
       "      <td>FEMALE</td>\n",
       "      <td>21</td>\n",
       "      <td>Urban</td>\n",
       "      <td>5</td>\n",
       "      <td>T</td>\n",
       "      <td>higher education</td>\n",
       "      <td>higher education</td>\n",
       "      <td>Homemaker</td>\n",
       "      <td>civil services: administrative or police</td>\n",
       "      <td>Other</td>\n",
       "      <td>30min - 1hr</td>\n",
       "      <td>1- &lt;2 hr</td>\n",
       "      <td>0</td>\n",
       "      <td>Yes</td>\n",
       "      <td>No</td>\n",
       "      <td>Yes</td>\n",
       "      <td>No</td>\n",
       "      <td>Yes</td>\n",
       "      <td>excellent</td>\n",
       "      <td>high</td>\n",
       "      <td>3 - medium</td>\n",
       "      <td>5 - very good</td>\n",
       "      <td>93.1</td>\n",
       "      <td>96.3</td>\n",
       "      <td>90.23</td>\n",
       "      <td>9.4</td>\n",
       "      <td>18238.0</td>\n",
       "      <td>0</td>\n",
       "      <td>0</td>\n",
       "    </tr>\n",
       "  </tbody>\n",
       "</table>\n",
       "</div>"
      ],
      "text/plain": [
       "         RollNo  Gender  Age Location  Famsize Pstatus              Medu  \\\n",
       "0  319126510001  FEMALE   21    Urban        5       T  higher education   \n",
       "\n",
       "               Fedu       Mjob                                      Fjob  \\\n",
       "0  higher education  Homemaker  civil services: administrative or police   \n",
       "\n",
       "  reason   traveltime studytime  Failures Famsup Paid Activities HigherEdu  \\\n",
       "0  Other  30min - 1hr  1- <2 hr         0    Yes   No        Yes        No   \n",
       "\n",
       "  Internet     Famrel Freetime       GoOut         Health  10th%  \\\n",
       "0      Yes  excellent     high  3 - medium  5 - very good   93.1   \n",
       "\n",
       "   12thordiploma%  Internal  Prev cgpa  Eamcet Rank  Ecet Rank  \\\n",
       "0            96.3     90.23        9.4      18238.0          0   \n",
       "\n",
       "   Total_eamcet/ecet_grade  \n",
       "0                        0  "
      ]
     },
     "execution_count": 13,
     "metadata": {},
     "output_type": "execute_result"
    }
   ],
   "source": [
    "X.iloc[:1]"
   ]
  },
  {
   "cell_type": "code",
   "execution_count": 14,
   "id": "0ec0e08f",
   "metadata": {},
   "outputs": [],
   "source": [
    "def get_eamcet_grade(rank):\n",
    "    conditions = [\n",
    "        rank == 0,\n",
    "        rank < 7000,\n",
    "        rank < 8500,\n",
    "        rank < 10000,\n",
    "        rank < 25000\n",
    "    ]\n",
    "    choices = [0, 4, 3, 2, 1]\n",
    "    return np.select(conditions, choices, default=0)\n",
    "\n",
    "def get_ecet_grade(rank):\n",
    "    conditions = [\n",
    "        rank == 0,\n",
    "        rank < 250,\n",
    "        rank < 350,\n",
    "        rank < 580,\n",
    "        rank < 1000\n",
    "    ]\n",
    "    choices = [0, 4, 3, 2, 1]\n",
    "    return np.select(conditions, choices, default=0)\n",
    "\n",
    "ctf1 = ColumnTransformer([\n",
    "        ('imputer1', SimpleImputer(strategy='mean'), [28]),  #Eamcet Rank\n",
    "         ('Eamcet_transformer', FunctionTransformer(get_eamcet_grade), [28]),\n",
    "        ('imputer2', SimpleImputer(strategy='mean'), [29]),  #Ecet Rank\n",
    "        ('Ecet_transformer', FunctionTransformer(get_ecet_grade), [29]),\n",
    "    ],\n",
    "    remainder='passthrough'\n",
    ")\n",
    "\n",
    "\n",
    "# df_transformed = ctf1.fit_transform(df)\n",
    "# print(df_transformed[0])\n",
    "\n",
    "\n",
    "# column_names = [ 'Eamcet Rank','Eamcet Grade', 'Ecet Rank','Ecet Grade','Roll No','Gender', 'Age', \n",
    "#                 'Location', 'Famsize', 'Pstatus', 'Medu', 'Fedu', 'Mjob', 'Fjob', 'reason', 'traveltime',\n",
    "#                 'studytime', 'Failures', 'Famsup', 'Paid', 'Activities', 'HigherEdu', 'Internet', 'Famrel',\n",
    "#                 'Freetime', 'GoOut', 'Health', '10th%', '12thordiploma%', 'Internal', 'Prev cgpa','sgpa','Total_eamcet/ecet_grade']\n",
    "\n",
    "# df = pd.DataFrame(df_transformed, columns=column_names)\n",
    "\n",
    "# df.head(1)\n",
    "\n"
   ]
  },
  {
   "cell_type": "code",
   "execution_count": 15,
   "id": "df189aee",
   "metadata": {},
   "outputs": [],
   "source": [
    "# index = df.columns.get_loc('Total_eamcet/ecet_grade')\n",
    "# print(index)\n"
   ]
  },
  {
   "cell_type": "code",
   "execution_count": 16,
   "id": "0ceeb757",
   "metadata": {},
   "outputs": [],
   "source": [
    "# print(df.columns)\n"
   ]
  },
  {
   "cell_type": "code",
   "execution_count": 17,
   "id": "49bc4b0c",
   "metadata": {},
   "outputs": [],
   "source": [
    "def second_transformer(X):\n",
    "    # Add values at indices 1 and 3\n",
    "    X[:, 1] = X[:, 1] + X[:, 3]\n",
    "\n",
    "    # Replace the value at the last index with the sum of values at indices 1 and 3\n",
    "    X[:, -1] = X[:, 1] + X[:, 3]\n",
    "\n",
    "    return X\n",
    "\n",
    "ctf2 = FunctionTransformer(second_transformer)\n",
    "\n",
    "# df_trans2 = ctf2.fit_transform(df_transformed)\n",
    "# df1 = pd.DataFrame(df_trans2, columns=['Eamcet Rank', 'Eamcet Grade', 'Ecet Rank', 'Ecet Grade', 'Roll No',\n",
    "#        'Gender', 'Age', 'Location', 'Famsize', 'Pstatus', 'Medu', 'Fedu',\n",
    "#        'Mjob', 'Fjob', 'reason', 'traveltime', 'studytime', 'Failures',\n",
    "#        'Famsup', 'Paid', 'Activities', 'HigherEdu', 'Internet', 'Famrel',\n",
    "#        'Freetime', 'GoOut', 'Health', '10th%', '12thordiploma%', 'Internal',\n",
    "#        'Prev cgpa', 'sgpa', 'Total_eamcet/ecet_grade'])\n",
    "\n",
    "# df1.head(1)\n"
   ]
  },
  {
   "cell_type": "code",
   "execution_count": 18,
   "id": "aef3f915",
   "metadata": {},
   "outputs": [],
   "source": [
    "# df1"
   ]
  },
  {
   "cell_type": "code",
   "execution_count": 19,
   "id": "c733d9e9",
   "metadata": {},
   "outputs": [],
   "source": [
    "# X_test"
   ]
  },
  {
   "cell_type": "code",
   "execution_count": 20,
   "id": "924cd548",
   "metadata": {},
   "outputs": [],
   "source": [
    "categories_medu = ['None', 'primary education( 4th grade )', '5th to 9th grade', 'secondary education', 'higher education']\n",
    "categories_fedu = ['None', 'primary education( 4th grade )', '5th to 9th grade', 'secondary education', 'higher education']\n",
    "categories_travel=[ '<15 min','15 - 30 min','30min - 1hr','>1hr']\n",
    "categories_study=[ '1- <2 hr', '2 to 5 hr','5 to 10 hr', '>10 hr']\n",
    "categories_famrel=[ 'Bad','Good','Very good','excellent']\n",
    "categories_freetime=['very low', 'low', 'high','very high']\n",
    "categories_goout=[ '1 - very low', '2 - low', '3 - medium','4 - high','5 - very high']\n",
    "categories_health=[ '1 - very bad', '2- bad', '3 - average','4 - good','5 - very good']\n",
    "\n",
    "# Define the column transformer with ordinal encoding for Medu and Fedu\n",
    "ctf3 = ColumnTransformer(transformers=[('ordinal', OrdinalEncoder(categories=[categories_medu,\n",
    "                            categories_fedu,categories_travel,categories_study,categories_famrel,\n",
    "                            categories_freetime,categories_goout,categories_health],dtype=np.int32),\n",
    "                                        [10,11,15,16,23,24,25,26])], remainder='passthrough')\n",
    "\n",
    "\n",
    "\n",
    "# df1_transformed = ctf3.fit_transform(df1)\n",
    "\n",
    "# df1_transformed[0]\n",
    "# df2 = pd.DataFrame(df1_transformed, columns=['Medu', 'Fedu', 'traveltime', 'studytime','Famrel','Freetime',\n",
    "#                                              'GoOut','Health','Eamcet Rank','Eamcet Grade','Ecet Rank','Ecet Grade','RollNo', 'Gender', 'Age', 'Location', 'Famsize',\n",
    "#                                              'Pstatus', 'Mjob', 'Fjob', 'reason', 'Failures', 'Famsup', 'Paid', \n",
    "#                                              'Activities', 'HigherEdu', 'Internet','10th%', '12thordiploma%', \n",
    "#                                              'Internal','Prev cgpa', 'sgpa','Total_eamcet/ecet_grade'])\n",
    "\n",
    "\n",
    "\n",
    "# df2"
   ]
  },
  {
   "cell_type": "code",
   "execution_count": 21,
   "id": "863b4b71",
   "metadata": {},
   "outputs": [],
   "source": [
    "# define column transformer\n",
    "ctf4 = ColumnTransformer(\n",
    "    transformers=[\n",
    "        ('one_hot', OneHotEncoder(drop='first', sparse=False, dtype=np.int32, handle_unknown='ignore'), [13,15,17,18, 19,20, 22, 23, 24, 25,26])\n",
    "    ],\n",
    "    remainder='passthrough')\n",
    "\n",
    "\n",
    "# # apply column transformer\n",
    "# df2_transformed = ctf4.fit_transform(df2)\n",
    "\n",
    "# df2_transformed.shape\n",
    "\n",
    "# # create dataframe with transformed data\n",
    "# df3 = pd.DataFrame(df2_transformed, columns=['Gender','Location_urban','Pstatus','Mjob_civil','Mjob_Teacher/health','Fjob_civil','Fjob_Teacher/health',\n",
    "#                                              'reason_reputation','reason_other','reason_closetohome','Famsup','Paid', 'Activities',\n",
    "#                                              'HigherEdu', 'Internet', 'Medu', 'Fedu', 'traveltime', 'studytime','Famrel','Freetime',\n",
    "#                                              'GoOut','Health','Eamcet Rank','Eamcet Grade','Ecet Rank','Ecet Grade','RollNo', 'Age',  \"Famsize\",\n",
    "#                                             'Failures','10th%', '12thordiploma%',\n",
    "#                                              'Internal','Prev cgpa', 'sgpa','Total_eamcet/ecet_grade'])\n",
    "\n",
    "# df3\n"
   ]
  },
  {
   "cell_type": "code",
   "execution_count": 22,
   "id": "640e0cb1",
   "metadata": {},
   "outputs": [],
   "source": [
    "# define the column transformer to apply scaling and capping\n",
    "ctf5 = ColumnTransformer(transformers=[\n",
    "    ('scaling', RobustScaler(), [31,32,33,34]),\n",
    "    ('capping', QuantileTransformer(output_distribution='uniform', n_quantiles=60, random_state=42),[31,32,33,34])\n",
    "], remainder='passthrough')\n",
    "\n",
    "# # fit and transform the data using the preprocessor\n",
    "# df3_transformed = ctf5.fit_transform(df3)\n",
    "# df3_transformed.shape\n",
    "\n",
    "\n",
    "# # print the shape of the transformed dataframe\n",
    "# df4 =pd.DataFrame(df3_transformed,columns=['scaled_10th%', 'scaled_12thordiploma%',\n",
    "#                                              'scaled_Internal','scaled_Prev cgpa','10th%', '12thordiploma%',\n",
    "#                                              'Internal','Prev cgpa','Gender','Location_urban','Pstatus','Mjob_civil','Mjob_Teacher/health','Fjob_civil','Fjob_Teacher/health',\n",
    "#                                              'reason_reputation','reason_other','reason_closetohome','Famsup','Paid', 'Activities',\n",
    "#                                              'HigherEdu', 'Internet', 'Medu', 'Fedu', 'traveltime', 'studytime','Famrel','Freetime',\n",
    "#                                              'GoOut','Health','Eamcet Rank','Eamcet Grade','Ecet Rank','Ecet Grade','RollNo', 'Age',  \"Famsize\",\n",
    "#                                             'Failures', 'sgpa','Total_eamcet/ecet_grade'])\n",
    "\n",
    "\n",
    "\n",
    "# df4.head()"
   ]
  },
  {
   "cell_type": "code",
   "execution_count": 23,
   "id": "725edc99",
   "metadata": {},
   "outputs": [],
   "source": [
    "# c=0\n",
    "# for i in df4.columns:\n",
    "#     print(i,c)\n",
    "#     c+=1"
   ]
  },
  {
   "cell_type": "code",
   "execution_count": 24,
   "id": "4bfcd60d",
   "metadata": {},
   "outputs": [],
   "source": [
    "cols_to_drop=[0,1,2,3,31,32,33,34,35]\n",
    "\n",
    "# define the transformer to drop the specified columns\n",
    "ctf6 = ColumnTransformer(transformers=[\n",
    "    ('drop', 'drop', cols_to_drop)\n",
    "], remainder='passthrough')\n",
    "\n",
    "# # fit and transform the data using the transformer\n",
    "# df4_transformed = ctf6.fit_transform(df4)\n",
    "\n",
    "# df5 =pd.DataFrame(df4_transformed,columns=['10th%', '12thordiploma%',\n",
    "#                                              'Internal','Prev cgpa','Gender','Location_urban','Pstatus','Mjob_civil','Mjob_Teacher/health','Fjob_civil','Fjob_Teacher/health',\n",
    "#                                              'reason_reputation','reason_other','reason_closetohome','Famsup','Paid', 'Activities',\n",
    "#                                              'HigherEdu', 'Internet', 'Medu', 'Fedu', 'traveltime', 'studytime','Famrel','Freetime',\n",
    "#                                              'GoOut','Health','Age',  \"Famsize\",\n",
    "#                                             'Failures', 'sgpa','Total_eamcet/ecet_grade'])\n",
    "\n",
    "# df5.head(5)"
   ]
  },
  {
   "cell_type": "code",
   "execution_count": 25,
   "id": "1c1e5f55",
   "metadata": {},
   "outputs": [],
   "source": [
    "# # define X and y\n",
    "# X = df5.drop('sgpa', axis=1)\n",
    "# y = df5['sgpa']"
   ]
  },
  {
   "cell_type": "code",
   "execution_count": 26,
   "id": "fd54e241",
   "metadata": {},
   "outputs": [],
   "source": [
    "# # define the SelectKBest transformer\n",
    "# kbest = SelectKBest(score_func=mutual_info_regression, k=5)\n",
    "\n",
    "# # select the best 5 columns using SelectKBest\n",
    "# X_best = kbest.fit_transform(df5, y)\n",
    "\n",
    "# # get the indices of the best 5 columns\n",
    "# best_indices = kbest.get_support(indices=True)\n",
    "\n",
    "# # get the column names of the best 5 columns\n",
    "# all_columns = df5.columns.tolist()\n",
    "# best_columns = [all_columns[i] for i in best_indices]\n",
    "\n",
    "# # subset the data using the best 5 columns\n",
    "# df5 = df5[best_columns]\n",
    "# df5"
   ]
  },
  {
   "cell_type": "code",
   "execution_count": 27,
   "id": "2f54b164",
   "metadata": {},
   "outputs": [],
   "source": [
    "# obj_cols = df5.select_dtypes(include=['object']).columns\n",
    "# df5[obj_cols] = df4[obj_cols].applymap(lambda x: x.strip() if isinstance(x, str) else x).astype(float)\n"
   ]
  },
  {
   "cell_type": "code",
   "execution_count": 28,
   "id": "9308d35c",
   "metadata": {},
   "outputs": [],
   "source": [
    "# df5.corr()['sgpa'].sort_values() "
   ]
  },
  {
   "cell_type": "code",
   "execution_count": 29,
   "id": "80ae5c57",
   "metadata": {},
   "outputs": [],
   "source": [
    "# define the SelectKBest transformer\n",
    "ctf7 = SelectKBest(score_func=mutual_info_regression, k=5)\n",
    "\n",
    "# select the best 5 columns using SelectKBest\n",
    "# df5 = ctf7.fit_transform(df5, y)\n",
    "\n",
    "# df5 =pd.DataFrame(df5,columns=[ '12thordiploma%', 'Internal','Prev cgpa','sgpa','Total_eamcet/ecet_grade'])\n",
    "\n",
    "# df5"
   ]
  },
  {
   "cell_type": "code",
   "execution_count": 30,
   "id": "4252e666",
   "metadata": {},
   "outputs": [],
   "source": [
    "ctf8=RandomForestRegressor()"
   ]
  },
  {
   "cell_type": "markdown",
   "id": "0b9e6c0d",
   "metadata": {},
   "source": [
    "## Create PipeLine"
   ]
  },
  {
   "cell_type": "code",
   "execution_count": 31,
   "id": "70f07517",
   "metadata": {},
   "outputs": [],
   "source": [
    "pipe=Pipeline(\n",
    "   [\n",
    "       ('ctf1',ctf1),\n",
    "       ('ctf2',ctf2),\n",
    "       ('ctf3',ctf3),\n",
    "       ('ctf4',ctf4),\n",
    "       ('ctf5',ctf5),\n",
    "       ('ctf6',ctf6),\n",
    "       ('ctf7',ctf7),\n",
    "       ('ctf8',ctf8)\n",
    "   ])"
   ]
  },
  {
   "cell_type": "code",
   "execution_count": 32,
   "id": "d3d1e927",
   "metadata": {},
   "outputs": [
    {
     "data": {
      "text/plain": [
       "Pipeline(steps=[('ctf1',\n",
       "                 ColumnTransformer(remainder='passthrough',\n",
       "                                   transformers=[('imputer1', SimpleImputer(),\n",
       "                                                  [28]),\n",
       "                                                 ('Eamcet_transformer',\n",
       "                                                  FunctionTransformer(func=<function get_eamcet_grade at 0x000002752F221820>),\n",
       "                                                  [28]),\n",
       "                                                 ('imputer2', SimpleImputer(),\n",
       "                                                  [29]),\n",
       "                                                 ('Ecet_transformer',\n",
       "                                                  FunctionTransformer(func=<function get_ecet_grade at 0x0000027534BFA700>),\n",
       "                                                  [29])])),\n",
       "                (...\n",
       "                                   transformers=[('scaling', RobustScaler(),\n",
       "                                                  [31, 32, 33, 34]),\n",
       "                                                 ('capping',\n",
       "                                                  QuantileTransformer(n_quantiles=60,\n",
       "                                                                      random_state=42),\n",
       "                                                  [31, 32, 33, 34])])),\n",
       "                ('ctf6',\n",
       "                 ColumnTransformer(remainder='passthrough',\n",
       "                                   transformers=[('drop', 'drop',\n",
       "                                                  [0, 1, 2, 3, 31, 32, 33, 34,\n",
       "                                                   35])])),\n",
       "                ('ctf7',\n",
       "                 SelectKBest(k=5,\n",
       "                             score_func=<function mutual_info_regression at 0x00000275347BE940>)),\n",
       "                ('ctf8', RandomForestRegressor())])"
      ]
     },
     "execution_count": 32,
     "metadata": {},
     "output_type": "execute_result"
    }
   ],
   "source": [
    "pipe.fit(X_train,y_train)"
   ]
  },
  {
   "cell_type": "markdown",
   "id": "b211a7ef",
   "metadata": {},
   "source": [
    "## Explore the PipeLine"
   ]
  },
  {
   "cell_type": "code",
   "execution_count": 33,
   "id": "86f177ac",
   "metadata": {},
   "outputs": [],
   "source": [
    "from sklearn import set_config\n",
    "set_config(display='diagram')"
   ]
  },
  {
   "cell_type": "code",
   "execution_count": 34,
   "id": "e5d72f3c",
   "metadata": {
    "scrolled": true
   },
   "outputs": [
    {
     "data": {
      "text/html": [
       "<style>#sk-f3aafeaa-427d-4e65-a93e-091d5a8f9207 {color: black;background-color: white;}#sk-f3aafeaa-427d-4e65-a93e-091d5a8f9207 pre{padding: 0;}#sk-f3aafeaa-427d-4e65-a93e-091d5a8f9207 div.sk-toggleable {background-color: white;}#sk-f3aafeaa-427d-4e65-a93e-091d5a8f9207 label.sk-toggleable__label {cursor: pointer;display: block;width: 100%;margin-bottom: 0;padding: 0.3em;box-sizing: border-box;text-align: center;}#sk-f3aafeaa-427d-4e65-a93e-091d5a8f9207 label.sk-toggleable__label-arrow:before {content: \"▸\";float: left;margin-right: 0.25em;color: #696969;}#sk-f3aafeaa-427d-4e65-a93e-091d5a8f9207 label.sk-toggleable__label-arrow:hover:before {color: black;}#sk-f3aafeaa-427d-4e65-a93e-091d5a8f9207 div.sk-estimator:hover label.sk-toggleable__label-arrow:before {color: black;}#sk-f3aafeaa-427d-4e65-a93e-091d5a8f9207 div.sk-toggleable__content {max-height: 0;max-width: 0;overflow: hidden;text-align: left;background-color: #f0f8ff;}#sk-f3aafeaa-427d-4e65-a93e-091d5a8f9207 div.sk-toggleable__content pre {margin: 0.2em;color: black;border-radius: 0.25em;background-color: #f0f8ff;}#sk-f3aafeaa-427d-4e65-a93e-091d5a8f9207 input.sk-toggleable__control:checked~div.sk-toggleable__content {max-height: 200px;max-width: 100%;overflow: auto;}#sk-f3aafeaa-427d-4e65-a93e-091d5a8f9207 input.sk-toggleable__control:checked~label.sk-toggleable__label-arrow:before {content: \"▾\";}#sk-f3aafeaa-427d-4e65-a93e-091d5a8f9207 div.sk-estimator input.sk-toggleable__control:checked~label.sk-toggleable__label {background-color: #d4ebff;}#sk-f3aafeaa-427d-4e65-a93e-091d5a8f9207 div.sk-label input.sk-toggleable__control:checked~label.sk-toggleable__label {background-color: #d4ebff;}#sk-f3aafeaa-427d-4e65-a93e-091d5a8f9207 input.sk-hidden--visually {border: 0;clip: rect(1px 1px 1px 1px);clip: rect(1px, 1px, 1px, 1px);height: 1px;margin: -1px;overflow: hidden;padding: 0;position: absolute;width: 1px;}#sk-f3aafeaa-427d-4e65-a93e-091d5a8f9207 div.sk-estimator {font-family: monospace;background-color: #f0f8ff;border: 1px dotted black;border-radius: 0.25em;box-sizing: border-box;margin-bottom: 0.5em;}#sk-f3aafeaa-427d-4e65-a93e-091d5a8f9207 div.sk-estimator:hover {background-color: #d4ebff;}#sk-f3aafeaa-427d-4e65-a93e-091d5a8f9207 div.sk-parallel-item::after {content: \"\";width: 100%;border-bottom: 1px solid gray;flex-grow: 1;}#sk-f3aafeaa-427d-4e65-a93e-091d5a8f9207 div.sk-label:hover label.sk-toggleable__label {background-color: #d4ebff;}#sk-f3aafeaa-427d-4e65-a93e-091d5a8f9207 div.sk-serial::before {content: \"\";position: absolute;border-left: 1px solid gray;box-sizing: border-box;top: 2em;bottom: 0;left: 50%;}#sk-f3aafeaa-427d-4e65-a93e-091d5a8f9207 div.sk-serial {display: flex;flex-direction: column;align-items: center;background-color: white;padding-right: 0.2em;padding-left: 0.2em;}#sk-f3aafeaa-427d-4e65-a93e-091d5a8f9207 div.sk-item {z-index: 1;}#sk-f3aafeaa-427d-4e65-a93e-091d5a8f9207 div.sk-parallel {display: flex;align-items: stretch;justify-content: center;background-color: white;}#sk-f3aafeaa-427d-4e65-a93e-091d5a8f9207 div.sk-parallel::before {content: \"\";position: absolute;border-left: 1px solid gray;box-sizing: border-box;top: 2em;bottom: 0;left: 50%;}#sk-f3aafeaa-427d-4e65-a93e-091d5a8f9207 div.sk-parallel-item {display: flex;flex-direction: column;position: relative;background-color: white;}#sk-f3aafeaa-427d-4e65-a93e-091d5a8f9207 div.sk-parallel-item:first-child::after {align-self: flex-end;width: 50%;}#sk-f3aafeaa-427d-4e65-a93e-091d5a8f9207 div.sk-parallel-item:last-child::after {align-self: flex-start;width: 50%;}#sk-f3aafeaa-427d-4e65-a93e-091d5a8f9207 div.sk-parallel-item:only-child::after {width: 0;}#sk-f3aafeaa-427d-4e65-a93e-091d5a8f9207 div.sk-dashed-wrapped {border: 1px dashed gray;margin: 0 0.4em 0.5em 0.4em;box-sizing: border-box;padding-bottom: 0.4em;background-color: white;position: relative;}#sk-f3aafeaa-427d-4e65-a93e-091d5a8f9207 div.sk-label label {font-family: monospace;font-weight: bold;background-color: white;display: inline-block;line-height: 1.2em;}#sk-f3aafeaa-427d-4e65-a93e-091d5a8f9207 div.sk-label-container {position: relative;z-index: 2;text-align: center;}#sk-f3aafeaa-427d-4e65-a93e-091d5a8f9207 div.sk-container {/* jupyter's `normalize.less` sets `[hidden] { display: none; }` but bootstrap.min.css set `[hidden] { display: none !important; }` so we also need the `!important` here to be able to override the default hidden behavior on the sphinx rendered scikit-learn.org. See: https://github.com/scikit-learn/scikit-learn/issues/21755 */display: inline-block !important;position: relative;}#sk-f3aafeaa-427d-4e65-a93e-091d5a8f9207 div.sk-text-repr-fallback {display: none;}</style><div id=\"sk-f3aafeaa-427d-4e65-a93e-091d5a8f9207\" class=\"sk-top-container\"><div class=\"sk-text-repr-fallback\"><pre>Pipeline(steps=[(&#x27;ctf1&#x27;,\n",
       "                 ColumnTransformer(remainder=&#x27;passthrough&#x27;,\n",
       "                                   transformers=[(&#x27;imputer1&#x27;, SimpleImputer(),\n",
       "                                                  [28]),\n",
       "                                                 (&#x27;Eamcet_transformer&#x27;,\n",
       "                                                  FunctionTransformer(func=&lt;function get_eamcet_grade at 0x000002752F221820&gt;),\n",
       "                                                  [28]),\n",
       "                                                 (&#x27;imputer2&#x27;, SimpleImputer(),\n",
       "                                                  [29]),\n",
       "                                                 (&#x27;Ecet_transformer&#x27;,\n",
       "                                                  FunctionTransformer(func=&lt;function get_ecet_grade at 0x0000027534BFA700&gt;),\n",
       "                                                  [29])])),\n",
       "                (...\n",
       "                                   transformers=[(&#x27;scaling&#x27;, RobustScaler(),\n",
       "                                                  [31, 32, 33, 34]),\n",
       "                                                 (&#x27;capping&#x27;,\n",
       "                                                  QuantileTransformer(n_quantiles=60,\n",
       "                                                                      random_state=42),\n",
       "                                                  [31, 32, 33, 34])])),\n",
       "                (&#x27;ctf6&#x27;,\n",
       "                 ColumnTransformer(remainder=&#x27;passthrough&#x27;,\n",
       "                                   transformers=[(&#x27;drop&#x27;, &#x27;drop&#x27;,\n",
       "                                                  [0, 1, 2, 3, 31, 32, 33, 34,\n",
       "                                                   35])])),\n",
       "                (&#x27;ctf7&#x27;,\n",
       "                 SelectKBest(k=5,\n",
       "                             score_func=&lt;function mutual_info_regression at 0x00000275347BE940&gt;)),\n",
       "                (&#x27;ctf8&#x27;, RandomForestRegressor())])</pre><b>Please rerun this cell to show the HTML repr or trust the notebook.</b></div><div class=\"sk-container\" hidden><div class=\"sk-item sk-dashed-wrapped\"><div class=\"sk-label-container\"><div class=\"sk-label sk-toggleable\"><input class=\"sk-toggleable__control sk-hidden--visually\" id=\"a7a4abd4-320a-420f-aa31-e2135506f6a2\" type=\"checkbox\" ><label for=\"a7a4abd4-320a-420f-aa31-e2135506f6a2\" class=\"sk-toggleable__label sk-toggleable__label-arrow\">Pipeline</label><div class=\"sk-toggleable__content\"><pre>Pipeline(steps=[(&#x27;ctf1&#x27;,\n",
       "                 ColumnTransformer(remainder=&#x27;passthrough&#x27;,\n",
       "                                   transformers=[(&#x27;imputer1&#x27;, SimpleImputer(),\n",
       "                                                  [28]),\n",
       "                                                 (&#x27;Eamcet_transformer&#x27;,\n",
       "                                                  FunctionTransformer(func=&lt;function get_eamcet_grade at 0x000002752F221820&gt;),\n",
       "                                                  [28]),\n",
       "                                                 (&#x27;imputer2&#x27;, SimpleImputer(),\n",
       "                                                  [29]),\n",
       "                                                 (&#x27;Ecet_transformer&#x27;,\n",
       "                                                  FunctionTransformer(func=&lt;function get_ecet_grade at 0x0000027534BFA700&gt;),\n",
       "                                                  [29])])),\n",
       "                (...\n",
       "                                   transformers=[(&#x27;scaling&#x27;, RobustScaler(),\n",
       "                                                  [31, 32, 33, 34]),\n",
       "                                                 (&#x27;capping&#x27;,\n",
       "                                                  QuantileTransformer(n_quantiles=60,\n",
       "                                                                      random_state=42),\n",
       "                                                  [31, 32, 33, 34])])),\n",
       "                (&#x27;ctf6&#x27;,\n",
       "                 ColumnTransformer(remainder=&#x27;passthrough&#x27;,\n",
       "                                   transformers=[(&#x27;drop&#x27;, &#x27;drop&#x27;,\n",
       "                                                  [0, 1, 2, 3, 31, 32, 33, 34,\n",
       "                                                   35])])),\n",
       "                (&#x27;ctf7&#x27;,\n",
       "                 SelectKBest(k=5,\n",
       "                             score_func=&lt;function mutual_info_regression at 0x00000275347BE940&gt;)),\n",
       "                (&#x27;ctf8&#x27;, RandomForestRegressor())])</pre></div></div></div><div class=\"sk-serial\"><div class=\"sk-item sk-dashed-wrapped\"><div class=\"sk-label-container\"><div class=\"sk-label sk-toggleable\"><input class=\"sk-toggleable__control sk-hidden--visually\" id=\"3d31089f-22ea-408a-9bc6-528356f95553\" type=\"checkbox\" ><label for=\"3d31089f-22ea-408a-9bc6-528356f95553\" class=\"sk-toggleable__label sk-toggleable__label-arrow\">ctf1: ColumnTransformer</label><div class=\"sk-toggleable__content\"><pre>ColumnTransformer(remainder=&#x27;passthrough&#x27;,\n",
       "                  transformers=[(&#x27;imputer1&#x27;, SimpleImputer(), [28]),\n",
       "                                (&#x27;Eamcet_transformer&#x27;,\n",
       "                                 FunctionTransformer(func=&lt;function get_eamcet_grade at 0x000002752F221820&gt;),\n",
       "                                 [28]),\n",
       "                                (&#x27;imputer2&#x27;, SimpleImputer(), [29]),\n",
       "                                (&#x27;Ecet_transformer&#x27;,\n",
       "                                 FunctionTransformer(func=&lt;function get_ecet_grade at 0x0000027534BFA700&gt;),\n",
       "                                 [29])])</pre></div></div></div><div class=\"sk-parallel\"><div class=\"sk-parallel-item\"><div class=\"sk-item\"><div class=\"sk-label-container\"><div class=\"sk-label sk-toggleable\"><input class=\"sk-toggleable__control sk-hidden--visually\" id=\"d9f98cdd-7fa3-42e2-817b-d9c65f66d6ba\" type=\"checkbox\" ><label for=\"d9f98cdd-7fa3-42e2-817b-d9c65f66d6ba\" class=\"sk-toggleable__label sk-toggleable__label-arrow\">imputer1</label><div class=\"sk-toggleable__content\"><pre>[28]</pre></div></div></div><div class=\"sk-serial\"><div class=\"sk-item\"><div class=\"sk-estimator sk-toggleable\"><input class=\"sk-toggleable__control sk-hidden--visually\" id=\"6c3703c8-1cb1-4113-a44a-ffb37aef48b0\" type=\"checkbox\" ><label for=\"6c3703c8-1cb1-4113-a44a-ffb37aef48b0\" class=\"sk-toggleable__label sk-toggleable__label-arrow\">SimpleImputer</label><div class=\"sk-toggleable__content\"><pre>SimpleImputer()</pre></div></div></div></div></div></div><div class=\"sk-parallel-item\"><div class=\"sk-item\"><div class=\"sk-label-container\"><div class=\"sk-label sk-toggleable\"><input class=\"sk-toggleable__control sk-hidden--visually\" id=\"d2b4c227-355f-4c37-af0c-8da9b3c17360\" type=\"checkbox\" ><label for=\"d2b4c227-355f-4c37-af0c-8da9b3c17360\" class=\"sk-toggleable__label sk-toggleable__label-arrow\">Eamcet_transformer</label><div class=\"sk-toggleable__content\"><pre>[28]</pre></div></div></div><div class=\"sk-serial\"><div class=\"sk-item\"><div class=\"sk-estimator sk-toggleable\"><input class=\"sk-toggleable__control sk-hidden--visually\" id=\"af37eff6-3aed-40b9-a15e-cd660f932024\" type=\"checkbox\" ><label for=\"af37eff6-3aed-40b9-a15e-cd660f932024\" class=\"sk-toggleable__label sk-toggleable__label-arrow\">FunctionTransformer</label><div class=\"sk-toggleable__content\"><pre>FunctionTransformer(func=&lt;function get_eamcet_grade at 0x000002752F221820&gt;)</pre></div></div></div></div></div></div><div class=\"sk-parallel-item\"><div class=\"sk-item\"><div class=\"sk-label-container\"><div class=\"sk-label sk-toggleable\"><input class=\"sk-toggleable__control sk-hidden--visually\" id=\"0446f524-4239-4f65-93f4-b937a280e017\" type=\"checkbox\" ><label for=\"0446f524-4239-4f65-93f4-b937a280e017\" class=\"sk-toggleable__label sk-toggleable__label-arrow\">imputer2</label><div class=\"sk-toggleable__content\"><pre>[29]</pre></div></div></div><div class=\"sk-serial\"><div class=\"sk-item\"><div class=\"sk-estimator sk-toggleable\"><input class=\"sk-toggleable__control sk-hidden--visually\" id=\"36852446-2385-4733-889d-0a029fd37ee5\" type=\"checkbox\" ><label for=\"36852446-2385-4733-889d-0a029fd37ee5\" class=\"sk-toggleable__label sk-toggleable__label-arrow\">SimpleImputer</label><div class=\"sk-toggleable__content\"><pre>SimpleImputer()</pre></div></div></div></div></div></div><div class=\"sk-parallel-item\"><div class=\"sk-item\"><div class=\"sk-label-container\"><div class=\"sk-label sk-toggleable\"><input class=\"sk-toggleable__control sk-hidden--visually\" id=\"4ea10ffb-b155-449b-8e8d-228ed5f340d0\" type=\"checkbox\" ><label for=\"4ea10ffb-b155-449b-8e8d-228ed5f340d0\" class=\"sk-toggleable__label sk-toggleable__label-arrow\">Ecet_transformer</label><div class=\"sk-toggleable__content\"><pre>[29]</pre></div></div></div><div class=\"sk-serial\"><div class=\"sk-item\"><div class=\"sk-estimator sk-toggleable\"><input class=\"sk-toggleable__control sk-hidden--visually\" id=\"71a8930e-dddd-4040-83ab-3f4509c1d6cf\" type=\"checkbox\" ><label for=\"71a8930e-dddd-4040-83ab-3f4509c1d6cf\" class=\"sk-toggleable__label sk-toggleable__label-arrow\">FunctionTransformer</label><div class=\"sk-toggleable__content\"><pre>FunctionTransformer(func=&lt;function get_ecet_grade at 0x0000027534BFA700&gt;)</pre></div></div></div></div></div></div><div class=\"sk-parallel-item\"><div class=\"sk-item\"><div class=\"sk-label-container\"><div class=\"sk-label sk-toggleable\"><input class=\"sk-toggleable__control sk-hidden--visually\" id=\"e476d68c-685c-4514-b61b-2bca08621d3e\" type=\"checkbox\" ><label for=\"e476d68c-685c-4514-b61b-2bca08621d3e\" class=\"sk-toggleable__label sk-toggleable__label-arrow\">remainder</label><div class=\"sk-toggleable__content\"><pre>[&#x27;RollNo&#x27;, &#x27;Gender&#x27;, &#x27;Age&#x27;, &#x27;Location&#x27;, &#x27;Famsize&#x27;, &#x27;Pstatus&#x27;, &#x27;Medu&#x27;, &#x27;Fedu&#x27;, &#x27;Mjob&#x27;, &#x27;Fjob&#x27;, &#x27;reason&#x27;, &#x27;traveltime&#x27;, &#x27;studytime&#x27;, &#x27;Failures&#x27;, &#x27;Famsup&#x27;, &#x27;Paid&#x27;, &#x27;Activities&#x27;, &#x27;HigherEdu&#x27;, &#x27;Internet&#x27;, &#x27;Famrel&#x27;, &#x27;Freetime&#x27;, &#x27;GoOut&#x27;, &#x27;Health&#x27;, &#x27;10th%&#x27;, &#x27;12thordiploma%&#x27;, &#x27;Internal&#x27;, &#x27;Prev cgpa&#x27;, &#x27;Eamcet Rank&#x27;]</pre></div></div></div><div class=\"sk-serial\"><div class=\"sk-item\"><div class=\"sk-estimator sk-toggleable\"><input class=\"sk-toggleable__control sk-hidden--visually\" id=\"d22caeda-93db-4a9e-8f01-a561929a6e6c\" type=\"checkbox\" ><label for=\"d22caeda-93db-4a9e-8f01-a561929a6e6c\" class=\"sk-toggleable__label sk-toggleable__label-arrow\">passthrough</label><div class=\"sk-toggleable__content\"><pre>passthrough</pre></div></div></div></div></div></div></div></div><div class=\"sk-item\"><div class=\"sk-estimator sk-toggleable\"><input class=\"sk-toggleable__control sk-hidden--visually\" id=\"1199276b-ae39-4f96-8975-98b996b241f4\" type=\"checkbox\" ><label for=\"1199276b-ae39-4f96-8975-98b996b241f4\" class=\"sk-toggleable__label sk-toggleable__label-arrow\">FunctionTransformer</label><div class=\"sk-toggleable__content\"><pre>FunctionTransformer(func=&lt;function second_transformer at 0x0000027534BFAEE0&gt;)</pre></div></div></div><div class=\"sk-item sk-dashed-wrapped\"><div class=\"sk-label-container\"><div class=\"sk-label sk-toggleable\"><input class=\"sk-toggleable__control sk-hidden--visually\" id=\"c57fe38c-8e19-426f-9d07-8e09c02a0f78\" type=\"checkbox\" ><label for=\"c57fe38c-8e19-426f-9d07-8e09c02a0f78\" class=\"sk-toggleable__label sk-toggleable__label-arrow\">ctf3: ColumnTransformer</label><div class=\"sk-toggleable__content\"><pre>ColumnTransformer(remainder=&#x27;passthrough&#x27;,\n",
       "                  transformers=[(&#x27;ordinal&#x27;,\n",
       "                                 OrdinalEncoder(categories=[[&#x27;None&#x27;,\n",
       "                                                             &#x27;primary &#x27;\n",
       "                                                             &#x27;education( 4th &#x27;\n",
       "                                                             &#x27;grade )&#x27;,\n",
       "                                                             &#x27;5th to 9th grade&#x27;,\n",
       "                                                             &#x27;secondary &#x27;\n",
       "                                                             &#x27;education&#x27;,\n",
       "                                                             &#x27;higher &#x27;\n",
       "                                                             &#x27;education&#x27;],\n",
       "                                                            [&#x27;None&#x27;,\n",
       "                                                             &#x27;primary &#x27;\n",
       "                                                             &#x27;education( 4th &#x27;\n",
       "                                                             &#x27;grade )&#x27;,\n",
       "                                                             &#x27;5th to 9th grade&#x27;,\n",
       "                                                             &#x27;secondary &#x27;\n",
       "                                                             &#x27;education&#x27;,\n",
       "                                                             &#x27;higher &#x27;\n",
       "                                                             &#x27;education&#x27;],\n",
       "                                                            [&#x27;&lt;15 min&#x27;,\n",
       "                                                             &#x27;15 - 30 min&#x27;,\n",
       "                                                             &#x27;30min - 1hr&#x27;,\n",
       "                                                             &#x27;&gt;1hr&#x27;],\n",
       "                                                            [&#x27;1- &lt;2 hr&#x27;,\n",
       "                                                             &#x27;2 to 5 hr&#x27;,\n",
       "                                                             &#x27;5 to 10 hr&#x27;,\n",
       "                                                             &#x27;&gt;10 hr&#x27;],\n",
       "                                                            [&#x27;Bad&#x27;, &#x27;Good&#x27;,\n",
       "                                                             &#x27;Very good&#x27;,\n",
       "                                                             &#x27;excellent&#x27;],\n",
       "                                                            [&#x27;very low&#x27;, &#x27;low&#x27;,\n",
       "                                                             &#x27;high&#x27;,\n",
       "                                                             &#x27;very high&#x27;],\n",
       "                                                            [&#x27;1 - very low&#x27;,\n",
       "                                                             &#x27;2 - low&#x27;,\n",
       "                                                             &#x27;3 - medium&#x27;,\n",
       "                                                             &#x27;4 - high&#x27;,\n",
       "                                                             &#x27;5 - very high&#x27;],\n",
       "                                                            [&#x27;1 - very bad&#x27;,\n",
       "                                                             &#x27;2- bad&#x27;,\n",
       "                                                             &#x27;3 - average&#x27;,\n",
       "                                                             &#x27;4 - good&#x27;,\n",
       "                                                             &#x27;5 - very good&#x27;]],\n",
       "                                                dtype=&lt;class &#x27;numpy.int32&#x27;&gt;),\n",
       "                                 [10, 11, 15, 16, 23, 24, 25, 26])])</pre></div></div></div><div class=\"sk-parallel\"><div class=\"sk-parallel-item\"><div class=\"sk-item\"><div class=\"sk-label-container\"><div class=\"sk-label sk-toggleable\"><input class=\"sk-toggleable__control sk-hidden--visually\" id=\"4e710db1-3091-4043-b8a9-9d50f70171ec\" type=\"checkbox\" ><label for=\"4e710db1-3091-4043-b8a9-9d50f70171ec\" class=\"sk-toggleable__label sk-toggleable__label-arrow\">ordinal</label><div class=\"sk-toggleable__content\"><pre>[10, 11, 15, 16, 23, 24, 25, 26]</pre></div></div></div><div class=\"sk-serial\"><div class=\"sk-item\"><div class=\"sk-estimator sk-toggleable\"><input class=\"sk-toggleable__control sk-hidden--visually\" id=\"2d02ac9d-398c-4992-905c-48d252565f99\" type=\"checkbox\" ><label for=\"2d02ac9d-398c-4992-905c-48d252565f99\" class=\"sk-toggleable__label sk-toggleable__label-arrow\">OrdinalEncoder</label><div class=\"sk-toggleable__content\"><pre>OrdinalEncoder(categories=[[&#x27;None&#x27;, &#x27;primary education( 4th grade )&#x27;,\n",
       "                            &#x27;5th to 9th grade&#x27;, &#x27;secondary education&#x27;,\n",
       "                            &#x27;higher education&#x27;],\n",
       "                           [&#x27;None&#x27;, &#x27;primary education( 4th grade )&#x27;,\n",
       "                            &#x27;5th to 9th grade&#x27;, &#x27;secondary education&#x27;,\n",
       "                            &#x27;higher education&#x27;],\n",
       "                           [&#x27;&lt;15 min&#x27;, &#x27;15 - 30 min&#x27;, &#x27;30min - 1hr&#x27;, &#x27;&gt;1hr&#x27;],\n",
       "                           [&#x27;1- &lt;2 hr&#x27;, &#x27;2 to 5 hr&#x27;, &#x27;5 to 10 hr&#x27;, &#x27;&gt;10 hr&#x27;],\n",
       "                           [&#x27;Bad&#x27;, &#x27;Good&#x27;, &#x27;Very good&#x27;, &#x27;excellent&#x27;],\n",
       "                           [&#x27;very low&#x27;, &#x27;low&#x27;, &#x27;high&#x27;, &#x27;very high&#x27;],\n",
       "                           [&#x27;1 - very low&#x27;, &#x27;2 - low&#x27;, &#x27;3 - medium&#x27;, &#x27;4 - high&#x27;,\n",
       "                            &#x27;5 - very high&#x27;],\n",
       "                           [&#x27;1 - very bad&#x27;, &#x27;2- bad&#x27;, &#x27;3 - average&#x27;, &#x27;4 - good&#x27;,\n",
       "                            &#x27;5 - very good&#x27;]],\n",
       "               dtype=&lt;class &#x27;numpy.int32&#x27;&gt;)</pre></div></div></div></div></div></div><div class=\"sk-parallel-item\"><div class=\"sk-item\"><div class=\"sk-label-container\"><div class=\"sk-label sk-toggleable\"><input class=\"sk-toggleable__control sk-hidden--visually\" id=\"2fc98453-967b-4b2b-a578-aa73fc500c65\" type=\"checkbox\" ><label for=\"2fc98453-967b-4b2b-a578-aa73fc500c65\" class=\"sk-toggleable__label sk-toggleable__label-arrow\">remainder</label><div class=\"sk-toggleable__content\"><pre>[0, 1, 2, 3, 4, 5, 6, 7, 8, 9, 12, 13, 14, 17, 18, 19, 20, 21, 22, 27, 28, 29, 30, 31]</pre></div></div></div><div class=\"sk-serial\"><div class=\"sk-item\"><div class=\"sk-estimator sk-toggleable\"><input class=\"sk-toggleable__control sk-hidden--visually\" id=\"b8d4451a-5f64-4554-9d55-a3599af550af\" type=\"checkbox\" ><label for=\"b8d4451a-5f64-4554-9d55-a3599af550af\" class=\"sk-toggleable__label sk-toggleable__label-arrow\">passthrough</label><div class=\"sk-toggleable__content\"><pre>passthrough</pre></div></div></div></div></div></div></div></div><div class=\"sk-item sk-dashed-wrapped\"><div class=\"sk-label-container\"><div class=\"sk-label sk-toggleable\"><input class=\"sk-toggleable__control sk-hidden--visually\" id=\"2ec8b21a-5741-431d-9522-e8e0b40c555b\" type=\"checkbox\" ><label for=\"2ec8b21a-5741-431d-9522-e8e0b40c555b\" class=\"sk-toggleable__label sk-toggleable__label-arrow\">ctf4: ColumnTransformer</label><div class=\"sk-toggleable__content\"><pre>ColumnTransformer(remainder=&#x27;passthrough&#x27;,\n",
       "                  transformers=[(&#x27;one_hot&#x27;,\n",
       "                                 OneHotEncoder(drop=&#x27;first&#x27;,\n",
       "                                               dtype=&lt;class &#x27;numpy.int32&#x27;&gt;,\n",
       "                                               handle_unknown=&#x27;ignore&#x27;,\n",
       "                                               sparse=False),\n",
       "                                 [13, 15, 17, 18, 19, 20, 22, 23, 24, 25, 26])])</pre></div></div></div><div class=\"sk-parallel\"><div class=\"sk-parallel-item\"><div class=\"sk-item\"><div class=\"sk-label-container\"><div class=\"sk-label sk-toggleable\"><input class=\"sk-toggleable__control sk-hidden--visually\" id=\"4ee48c67-744a-40d8-985f-9d00248898b2\" type=\"checkbox\" ><label for=\"4ee48c67-744a-40d8-985f-9d00248898b2\" class=\"sk-toggleable__label sk-toggleable__label-arrow\">one_hot</label><div class=\"sk-toggleable__content\"><pre>[13, 15, 17, 18, 19, 20, 22, 23, 24, 25, 26]</pre></div></div></div><div class=\"sk-serial\"><div class=\"sk-item\"><div class=\"sk-estimator sk-toggleable\"><input class=\"sk-toggleable__control sk-hidden--visually\" id=\"73ffeac0-4319-4238-9a6a-5650512d64a3\" type=\"checkbox\" ><label for=\"73ffeac0-4319-4238-9a6a-5650512d64a3\" class=\"sk-toggleable__label sk-toggleable__label-arrow\">OneHotEncoder</label><div class=\"sk-toggleable__content\"><pre>OneHotEncoder(drop=&#x27;first&#x27;, dtype=&lt;class &#x27;numpy.int32&#x27;&gt;,\n",
       "              handle_unknown=&#x27;ignore&#x27;, sparse=False)</pre></div></div></div></div></div></div><div class=\"sk-parallel-item\"><div class=\"sk-item\"><div class=\"sk-label-container\"><div class=\"sk-label sk-toggleable\"><input class=\"sk-toggleable__control sk-hidden--visually\" id=\"14b64686-0494-4f87-88d2-89e3f3fba1d2\" type=\"checkbox\" ><label for=\"14b64686-0494-4f87-88d2-89e3f3fba1d2\" class=\"sk-toggleable__label sk-toggleable__label-arrow\">remainder</label><div class=\"sk-toggleable__content\"><pre>[0, 1, 2, 3, 4, 5, 6, 7, 8, 9, 10, 11, 12, 14, 16, 21, 27, 28, 29, 30, 31]</pre></div></div></div><div class=\"sk-serial\"><div class=\"sk-item\"><div class=\"sk-estimator sk-toggleable\"><input class=\"sk-toggleable__control sk-hidden--visually\" id=\"f8573c29-62d6-442f-b689-727c7406ec74\" type=\"checkbox\" ><label for=\"f8573c29-62d6-442f-b689-727c7406ec74\" class=\"sk-toggleable__label sk-toggleable__label-arrow\">passthrough</label><div class=\"sk-toggleable__content\"><pre>passthrough</pre></div></div></div></div></div></div></div></div><div class=\"sk-item sk-dashed-wrapped\"><div class=\"sk-label-container\"><div class=\"sk-label sk-toggleable\"><input class=\"sk-toggleable__control sk-hidden--visually\" id=\"39f502cf-c844-4422-a30b-e7f0e494d463\" type=\"checkbox\" ><label for=\"39f502cf-c844-4422-a30b-e7f0e494d463\" class=\"sk-toggleable__label sk-toggleable__label-arrow\">ctf5: ColumnTransformer</label><div class=\"sk-toggleable__content\"><pre>ColumnTransformer(remainder=&#x27;passthrough&#x27;,\n",
       "                  transformers=[(&#x27;scaling&#x27;, RobustScaler(), [31, 32, 33, 34]),\n",
       "                                (&#x27;capping&#x27;,\n",
       "                                 QuantileTransformer(n_quantiles=60,\n",
       "                                                     random_state=42),\n",
       "                                 [31, 32, 33, 34])])</pre></div></div></div><div class=\"sk-parallel\"><div class=\"sk-parallel-item\"><div class=\"sk-item\"><div class=\"sk-label-container\"><div class=\"sk-label sk-toggleable\"><input class=\"sk-toggleable__control sk-hidden--visually\" id=\"f605a3e7-bb15-496b-972a-cd15ceda026e\" type=\"checkbox\" ><label for=\"f605a3e7-bb15-496b-972a-cd15ceda026e\" class=\"sk-toggleable__label sk-toggleable__label-arrow\">scaling</label><div class=\"sk-toggleable__content\"><pre>[31, 32, 33, 34]</pre></div></div></div><div class=\"sk-serial\"><div class=\"sk-item\"><div class=\"sk-estimator sk-toggleable\"><input class=\"sk-toggleable__control sk-hidden--visually\" id=\"457dfa5c-136f-44af-8a39-9bf8d3613b5c\" type=\"checkbox\" ><label for=\"457dfa5c-136f-44af-8a39-9bf8d3613b5c\" class=\"sk-toggleable__label sk-toggleable__label-arrow\">RobustScaler</label><div class=\"sk-toggleable__content\"><pre>RobustScaler()</pre></div></div></div></div></div></div><div class=\"sk-parallel-item\"><div class=\"sk-item\"><div class=\"sk-label-container\"><div class=\"sk-label sk-toggleable\"><input class=\"sk-toggleable__control sk-hidden--visually\" id=\"fe6b2c7e-8550-4f55-acf7-1c8e49e10aed\" type=\"checkbox\" ><label for=\"fe6b2c7e-8550-4f55-acf7-1c8e49e10aed\" class=\"sk-toggleable__label sk-toggleable__label-arrow\">capping</label><div class=\"sk-toggleable__content\"><pre>[31, 32, 33, 34]</pre></div></div></div><div class=\"sk-serial\"><div class=\"sk-item\"><div class=\"sk-estimator sk-toggleable\"><input class=\"sk-toggleable__control sk-hidden--visually\" id=\"122dab2c-e2f5-435f-a10a-60788a2fea6a\" type=\"checkbox\" ><label for=\"122dab2c-e2f5-435f-a10a-60788a2fea6a\" class=\"sk-toggleable__label sk-toggleable__label-arrow\">QuantileTransformer</label><div class=\"sk-toggleable__content\"><pre>QuantileTransformer(n_quantiles=60, random_state=42)</pre></div></div></div></div></div></div><div class=\"sk-parallel-item\"><div class=\"sk-item\"><div class=\"sk-label-container\"><div class=\"sk-label sk-toggleable\"><input class=\"sk-toggleable__control sk-hidden--visually\" id=\"e6ca7b69-4428-4d6f-ab57-465148e2e30d\" type=\"checkbox\" ><label for=\"e6ca7b69-4428-4d6f-ab57-465148e2e30d\" class=\"sk-toggleable__label sk-toggleable__label-arrow\">remainder</label><div class=\"sk-toggleable__content\"><pre>[0, 1, 2, 3, 4, 5, 6, 7, 8, 9, 10, 11, 12, 13, 14, 15, 16, 17, 18, 19, 20, 21, 22, 23, 24, 25, 26, 27, 28, 29, 30]</pre></div></div></div><div class=\"sk-serial\"><div class=\"sk-item\"><div class=\"sk-estimator sk-toggleable\"><input class=\"sk-toggleable__control sk-hidden--visually\" id=\"3cc03159-aee7-41a0-8ec8-15828d37e7bf\" type=\"checkbox\" ><label for=\"3cc03159-aee7-41a0-8ec8-15828d37e7bf\" class=\"sk-toggleable__label sk-toggleable__label-arrow\">passthrough</label><div class=\"sk-toggleable__content\"><pre>passthrough</pre></div></div></div></div></div></div></div></div><div class=\"sk-item sk-dashed-wrapped\"><div class=\"sk-label-container\"><div class=\"sk-label sk-toggleable\"><input class=\"sk-toggleable__control sk-hidden--visually\" id=\"6ee987ce-2669-476c-a012-f1af60749f05\" type=\"checkbox\" ><label for=\"6ee987ce-2669-476c-a012-f1af60749f05\" class=\"sk-toggleable__label sk-toggleable__label-arrow\">ctf6: ColumnTransformer</label><div class=\"sk-toggleable__content\"><pre>ColumnTransformer(remainder=&#x27;passthrough&#x27;,\n",
       "                  transformers=[(&#x27;drop&#x27;, &#x27;drop&#x27;,\n",
       "                                 [0, 1, 2, 3, 31, 32, 33, 34, 35])])</pre></div></div></div><div class=\"sk-parallel\"><div class=\"sk-parallel-item\"><div class=\"sk-item\"><div class=\"sk-label-container\"><div class=\"sk-label sk-toggleable\"><input class=\"sk-toggleable__control sk-hidden--visually\" id=\"f793e0e3-7b98-4235-bd64-ea411411e2bd\" type=\"checkbox\" ><label for=\"f793e0e3-7b98-4235-bd64-ea411411e2bd\" class=\"sk-toggleable__label sk-toggleable__label-arrow\">drop</label><div class=\"sk-toggleable__content\"><pre>[0, 1, 2, 3, 31, 32, 33, 34, 35]</pre></div></div></div><div class=\"sk-serial\"><div class=\"sk-item\"><div class=\"sk-estimator sk-toggleable\"><input class=\"sk-toggleable__control sk-hidden--visually\" id=\"e30b40db-01a4-4d57-add5-dce51cc9f1b9\" type=\"checkbox\" ><label for=\"e30b40db-01a4-4d57-add5-dce51cc9f1b9\" class=\"sk-toggleable__label sk-toggleable__label-arrow\">drop</label><div class=\"sk-toggleable__content\"><pre>drop</pre></div></div></div></div></div></div><div class=\"sk-parallel-item\"><div class=\"sk-item\"><div class=\"sk-label-container\"><div class=\"sk-label sk-toggleable\"><input class=\"sk-toggleable__control sk-hidden--visually\" id=\"d10c613c-14c5-4141-a02b-36c9b4ed7cb3\" type=\"checkbox\" ><label for=\"d10c613c-14c5-4141-a02b-36c9b4ed7cb3\" class=\"sk-toggleable__label sk-toggleable__label-arrow\">remainder</label><div class=\"sk-toggleable__content\"><pre>[4, 5, 6, 7, 8, 9, 10, 11, 12, 13, 14, 15, 16, 17, 18, 19, 20, 21, 22, 23, 24, 25, 26, 27, 28, 29, 30, 36, 37, 38]</pre></div></div></div><div class=\"sk-serial\"><div class=\"sk-item\"><div class=\"sk-estimator sk-toggleable\"><input class=\"sk-toggleable__control sk-hidden--visually\" id=\"227641fe-ed58-4f3e-8d20-b4b7752152ca\" type=\"checkbox\" ><label for=\"227641fe-ed58-4f3e-8d20-b4b7752152ca\" class=\"sk-toggleable__label sk-toggleable__label-arrow\">passthrough</label><div class=\"sk-toggleable__content\"><pre>passthrough</pre></div></div></div></div></div></div></div></div><div class=\"sk-item\"><div class=\"sk-estimator sk-toggleable\"><input class=\"sk-toggleable__control sk-hidden--visually\" id=\"c2591864-88a2-4b8b-a6e8-726133d79bd2\" type=\"checkbox\" ><label for=\"c2591864-88a2-4b8b-a6e8-726133d79bd2\" class=\"sk-toggleable__label sk-toggleable__label-arrow\">SelectKBest</label><div class=\"sk-toggleable__content\"><pre>SelectKBest(k=5,\n",
       "            score_func=&lt;function mutual_info_regression at 0x00000275347BE940&gt;)</pre></div></div></div><div class=\"sk-item\"><div class=\"sk-estimator sk-toggleable\"><input class=\"sk-toggleable__control sk-hidden--visually\" id=\"4724b9bd-0777-405b-8cb6-eb389ab7a2aa\" type=\"checkbox\" ><label for=\"4724b9bd-0777-405b-8cb6-eb389ab7a2aa\" class=\"sk-toggleable__label sk-toggleable__label-arrow\">RandomForestRegressor</label><div class=\"sk-toggleable__content\"><pre>RandomForestRegressor()</pre></div></div></div></div></div></div></div>"
      ],
      "text/plain": [
       "Pipeline(steps=[('ctf1',\n",
       "                 ColumnTransformer(remainder='passthrough',\n",
       "                                   transformers=[('imputer1', SimpleImputer(),\n",
       "                                                  [28]),\n",
       "                                                 ('Eamcet_transformer',\n",
       "                                                  FunctionTransformer(func=<function get_eamcet_grade at 0x000002752F221820>),\n",
       "                                                  [28]),\n",
       "                                                 ('imputer2', SimpleImputer(),\n",
       "                                                  [29]),\n",
       "                                                 ('Ecet_transformer',\n",
       "                                                  FunctionTransformer(func=<function get_ecet_grade at 0x0000027534BFA700>),\n",
       "                                                  [29])])),\n",
       "                (...\n",
       "                                   transformers=[('scaling', RobustScaler(),\n",
       "                                                  [31, 32, 33, 34]),\n",
       "                                                 ('capping',\n",
       "                                                  QuantileTransformer(n_quantiles=60,\n",
       "                                                                      random_state=42),\n",
       "                                                  [31, 32, 33, 34])])),\n",
       "                ('ctf6',\n",
       "                 ColumnTransformer(remainder='passthrough',\n",
       "                                   transformers=[('drop', 'drop',\n",
       "                                                  [0, 1, 2, 3, 31, 32, 33, 34,\n",
       "                                                   35])])),\n",
       "                ('ctf7',\n",
       "                 SelectKBest(k=5,\n",
       "                             score_func=<function mutual_info_regression at 0x00000275347BE940>)),\n",
       "                ('ctf8', RandomForestRegressor())])"
      ]
     },
     "execution_count": 34,
     "metadata": {},
     "output_type": "execute_result"
    }
   ],
   "source": [
    "pipe.fit(X_train,y_train)"
   ]
  },
  {
   "cell_type": "code",
   "execution_count": 35,
   "id": "9e1d24df",
   "metadata": {},
   "outputs": [
    {
     "data": {
      "text/html": [
       "<style>#sk-644cddaf-38c3-46ca-aaff-aa98369d8cb7 {color: black;background-color: white;}#sk-644cddaf-38c3-46ca-aaff-aa98369d8cb7 pre{padding: 0;}#sk-644cddaf-38c3-46ca-aaff-aa98369d8cb7 div.sk-toggleable {background-color: white;}#sk-644cddaf-38c3-46ca-aaff-aa98369d8cb7 label.sk-toggleable__label {cursor: pointer;display: block;width: 100%;margin-bottom: 0;padding: 0.3em;box-sizing: border-box;text-align: center;}#sk-644cddaf-38c3-46ca-aaff-aa98369d8cb7 label.sk-toggleable__label-arrow:before {content: \"▸\";float: left;margin-right: 0.25em;color: #696969;}#sk-644cddaf-38c3-46ca-aaff-aa98369d8cb7 label.sk-toggleable__label-arrow:hover:before {color: black;}#sk-644cddaf-38c3-46ca-aaff-aa98369d8cb7 div.sk-estimator:hover label.sk-toggleable__label-arrow:before {color: black;}#sk-644cddaf-38c3-46ca-aaff-aa98369d8cb7 div.sk-toggleable__content {max-height: 0;max-width: 0;overflow: hidden;text-align: left;background-color: #f0f8ff;}#sk-644cddaf-38c3-46ca-aaff-aa98369d8cb7 div.sk-toggleable__content pre {margin: 0.2em;color: black;border-radius: 0.25em;background-color: #f0f8ff;}#sk-644cddaf-38c3-46ca-aaff-aa98369d8cb7 input.sk-toggleable__control:checked~div.sk-toggleable__content {max-height: 200px;max-width: 100%;overflow: auto;}#sk-644cddaf-38c3-46ca-aaff-aa98369d8cb7 input.sk-toggleable__control:checked~label.sk-toggleable__label-arrow:before {content: \"▾\";}#sk-644cddaf-38c3-46ca-aaff-aa98369d8cb7 div.sk-estimator input.sk-toggleable__control:checked~label.sk-toggleable__label {background-color: #d4ebff;}#sk-644cddaf-38c3-46ca-aaff-aa98369d8cb7 div.sk-label input.sk-toggleable__control:checked~label.sk-toggleable__label {background-color: #d4ebff;}#sk-644cddaf-38c3-46ca-aaff-aa98369d8cb7 input.sk-hidden--visually {border: 0;clip: rect(1px 1px 1px 1px);clip: rect(1px, 1px, 1px, 1px);height: 1px;margin: -1px;overflow: hidden;padding: 0;position: absolute;width: 1px;}#sk-644cddaf-38c3-46ca-aaff-aa98369d8cb7 div.sk-estimator {font-family: monospace;background-color: #f0f8ff;border: 1px dotted black;border-radius: 0.25em;box-sizing: border-box;margin-bottom: 0.5em;}#sk-644cddaf-38c3-46ca-aaff-aa98369d8cb7 div.sk-estimator:hover {background-color: #d4ebff;}#sk-644cddaf-38c3-46ca-aaff-aa98369d8cb7 div.sk-parallel-item::after {content: \"\";width: 100%;border-bottom: 1px solid gray;flex-grow: 1;}#sk-644cddaf-38c3-46ca-aaff-aa98369d8cb7 div.sk-label:hover label.sk-toggleable__label {background-color: #d4ebff;}#sk-644cddaf-38c3-46ca-aaff-aa98369d8cb7 div.sk-serial::before {content: \"\";position: absolute;border-left: 1px solid gray;box-sizing: border-box;top: 2em;bottom: 0;left: 50%;}#sk-644cddaf-38c3-46ca-aaff-aa98369d8cb7 div.sk-serial {display: flex;flex-direction: column;align-items: center;background-color: white;padding-right: 0.2em;padding-left: 0.2em;}#sk-644cddaf-38c3-46ca-aaff-aa98369d8cb7 div.sk-item {z-index: 1;}#sk-644cddaf-38c3-46ca-aaff-aa98369d8cb7 div.sk-parallel {display: flex;align-items: stretch;justify-content: center;background-color: white;}#sk-644cddaf-38c3-46ca-aaff-aa98369d8cb7 div.sk-parallel::before {content: \"\";position: absolute;border-left: 1px solid gray;box-sizing: border-box;top: 2em;bottom: 0;left: 50%;}#sk-644cddaf-38c3-46ca-aaff-aa98369d8cb7 div.sk-parallel-item {display: flex;flex-direction: column;position: relative;background-color: white;}#sk-644cddaf-38c3-46ca-aaff-aa98369d8cb7 div.sk-parallel-item:first-child::after {align-self: flex-end;width: 50%;}#sk-644cddaf-38c3-46ca-aaff-aa98369d8cb7 div.sk-parallel-item:last-child::after {align-self: flex-start;width: 50%;}#sk-644cddaf-38c3-46ca-aaff-aa98369d8cb7 div.sk-parallel-item:only-child::after {width: 0;}#sk-644cddaf-38c3-46ca-aaff-aa98369d8cb7 div.sk-dashed-wrapped {border: 1px dashed gray;margin: 0 0.4em 0.5em 0.4em;box-sizing: border-box;padding-bottom: 0.4em;background-color: white;position: relative;}#sk-644cddaf-38c3-46ca-aaff-aa98369d8cb7 div.sk-label label {font-family: monospace;font-weight: bold;background-color: white;display: inline-block;line-height: 1.2em;}#sk-644cddaf-38c3-46ca-aaff-aa98369d8cb7 div.sk-label-container {position: relative;z-index: 2;text-align: center;}#sk-644cddaf-38c3-46ca-aaff-aa98369d8cb7 div.sk-container {/* jupyter's `normalize.less` sets `[hidden] { display: none; }` but bootstrap.min.css set `[hidden] { display: none !important; }` so we also need the `!important` here to be able to override the default hidden behavior on the sphinx rendered scikit-learn.org. See: https://github.com/scikit-learn/scikit-learn/issues/21755 */display: inline-block !important;position: relative;}#sk-644cddaf-38c3-46ca-aaff-aa98369d8cb7 div.sk-text-repr-fallback {display: none;}</style><div id=\"sk-644cddaf-38c3-46ca-aaff-aa98369d8cb7\" class=\"sk-top-container\"><div class=\"sk-text-repr-fallback\"><pre>ColumnTransformer(remainder=&#x27;passthrough&#x27;,\n",
       "                  transformers=[(&#x27;imputer1&#x27;, SimpleImputer(), [28]),\n",
       "                                (&#x27;Eamcet_transformer&#x27;,\n",
       "                                 FunctionTransformer(func=&lt;function get_eamcet_grade at 0x000002752F221820&gt;),\n",
       "                                 [28]),\n",
       "                                (&#x27;imputer2&#x27;, SimpleImputer(), [29]),\n",
       "                                (&#x27;Ecet_transformer&#x27;,\n",
       "                                 FunctionTransformer(func=&lt;function get_ecet_grade at 0x0000027534BFA700&gt;),\n",
       "                                 [29])])</pre><b>Please rerun this cell to show the HTML repr or trust the notebook.</b></div><div class=\"sk-container\" hidden><div class=\"sk-item sk-dashed-wrapped\"><div class=\"sk-label-container\"><div class=\"sk-label sk-toggleable\"><input class=\"sk-toggleable__control sk-hidden--visually\" id=\"6ed3bc76-56a3-40b3-b1d7-a77e5cb1e243\" type=\"checkbox\" ><label for=\"6ed3bc76-56a3-40b3-b1d7-a77e5cb1e243\" class=\"sk-toggleable__label sk-toggleable__label-arrow\">ColumnTransformer</label><div class=\"sk-toggleable__content\"><pre>ColumnTransformer(remainder=&#x27;passthrough&#x27;,\n",
       "                  transformers=[(&#x27;imputer1&#x27;, SimpleImputer(), [28]),\n",
       "                                (&#x27;Eamcet_transformer&#x27;,\n",
       "                                 FunctionTransformer(func=&lt;function get_eamcet_grade at 0x000002752F221820&gt;),\n",
       "                                 [28]),\n",
       "                                (&#x27;imputer2&#x27;, SimpleImputer(), [29]),\n",
       "                                (&#x27;Ecet_transformer&#x27;,\n",
       "                                 FunctionTransformer(func=&lt;function get_ecet_grade at 0x0000027534BFA700&gt;),\n",
       "                                 [29])])</pre></div></div></div><div class=\"sk-parallel\"><div class=\"sk-parallel-item\"><div class=\"sk-item\"><div class=\"sk-label-container\"><div class=\"sk-label sk-toggleable\"><input class=\"sk-toggleable__control sk-hidden--visually\" id=\"4e9233a0-abde-432d-a0c2-9f07176d0db2\" type=\"checkbox\" ><label for=\"4e9233a0-abde-432d-a0c2-9f07176d0db2\" class=\"sk-toggleable__label sk-toggleable__label-arrow\">imputer1</label><div class=\"sk-toggleable__content\"><pre>[28]</pre></div></div></div><div class=\"sk-serial\"><div class=\"sk-item\"><div class=\"sk-estimator sk-toggleable\"><input class=\"sk-toggleable__control sk-hidden--visually\" id=\"ec5e8cc0-30fc-42fb-b37f-ed842f3f4a13\" type=\"checkbox\" ><label for=\"ec5e8cc0-30fc-42fb-b37f-ed842f3f4a13\" class=\"sk-toggleable__label sk-toggleable__label-arrow\">SimpleImputer</label><div class=\"sk-toggleable__content\"><pre>SimpleImputer()</pre></div></div></div></div></div></div><div class=\"sk-parallel-item\"><div class=\"sk-item\"><div class=\"sk-label-container\"><div class=\"sk-label sk-toggleable\"><input class=\"sk-toggleable__control sk-hidden--visually\" id=\"73e39045-66cf-4bed-bd6b-fe7c08d27bb2\" type=\"checkbox\" ><label for=\"73e39045-66cf-4bed-bd6b-fe7c08d27bb2\" class=\"sk-toggleable__label sk-toggleable__label-arrow\">Eamcet_transformer</label><div class=\"sk-toggleable__content\"><pre>[28]</pre></div></div></div><div class=\"sk-serial\"><div class=\"sk-item\"><div class=\"sk-estimator sk-toggleable\"><input class=\"sk-toggleable__control sk-hidden--visually\" id=\"c8429492-68cf-48ca-abc4-67568aa13b91\" type=\"checkbox\" ><label for=\"c8429492-68cf-48ca-abc4-67568aa13b91\" class=\"sk-toggleable__label sk-toggleable__label-arrow\">FunctionTransformer</label><div class=\"sk-toggleable__content\"><pre>FunctionTransformer(func=&lt;function get_eamcet_grade at 0x000002752F221820&gt;)</pre></div></div></div></div></div></div><div class=\"sk-parallel-item\"><div class=\"sk-item\"><div class=\"sk-label-container\"><div class=\"sk-label sk-toggleable\"><input class=\"sk-toggleable__control sk-hidden--visually\" id=\"0993012f-8b08-443c-a9c1-82e7c71dd6bc\" type=\"checkbox\" ><label for=\"0993012f-8b08-443c-a9c1-82e7c71dd6bc\" class=\"sk-toggleable__label sk-toggleable__label-arrow\">imputer2</label><div class=\"sk-toggleable__content\"><pre>[29]</pre></div></div></div><div class=\"sk-serial\"><div class=\"sk-item\"><div class=\"sk-estimator sk-toggleable\"><input class=\"sk-toggleable__control sk-hidden--visually\" id=\"6218101a-21aa-468f-8cf7-6bff1e1a1610\" type=\"checkbox\" ><label for=\"6218101a-21aa-468f-8cf7-6bff1e1a1610\" class=\"sk-toggleable__label sk-toggleable__label-arrow\">SimpleImputer</label><div class=\"sk-toggleable__content\"><pre>SimpleImputer()</pre></div></div></div></div></div></div><div class=\"sk-parallel-item\"><div class=\"sk-item\"><div class=\"sk-label-container\"><div class=\"sk-label sk-toggleable\"><input class=\"sk-toggleable__control sk-hidden--visually\" id=\"e84f64ec-7c4d-49b5-b92d-af28c6e7891d\" type=\"checkbox\" ><label for=\"e84f64ec-7c4d-49b5-b92d-af28c6e7891d\" class=\"sk-toggleable__label sk-toggleable__label-arrow\">Ecet_transformer</label><div class=\"sk-toggleable__content\"><pre>[29]</pre></div></div></div><div class=\"sk-serial\"><div class=\"sk-item\"><div class=\"sk-estimator sk-toggleable\"><input class=\"sk-toggleable__control sk-hidden--visually\" id=\"6b956479-b75f-4f80-954e-bc8fc51d660e\" type=\"checkbox\" ><label for=\"6b956479-b75f-4f80-954e-bc8fc51d660e\" class=\"sk-toggleable__label sk-toggleable__label-arrow\">FunctionTransformer</label><div class=\"sk-toggleable__content\"><pre>FunctionTransformer(func=&lt;function get_ecet_grade at 0x0000027534BFA700&gt;)</pre></div></div></div></div></div></div><div class=\"sk-parallel-item\"><div class=\"sk-item\"><div class=\"sk-label-container\"><div class=\"sk-label sk-toggleable\"><input class=\"sk-toggleable__control sk-hidden--visually\" id=\"ae4bb9fe-9a70-4008-af17-9bf0578d2bf0\" type=\"checkbox\" ><label for=\"ae4bb9fe-9a70-4008-af17-9bf0578d2bf0\" class=\"sk-toggleable__label sk-toggleable__label-arrow\">remainder</label><div class=\"sk-toggleable__content\"><pre>[&#x27;RollNo&#x27;, &#x27;Gender&#x27;, &#x27;Age&#x27;, &#x27;Location&#x27;, &#x27;Famsize&#x27;, &#x27;Pstatus&#x27;, &#x27;Medu&#x27;, &#x27;Fedu&#x27;, &#x27;Mjob&#x27;, &#x27;Fjob&#x27;, &#x27;reason&#x27;, &#x27;traveltime&#x27;, &#x27;studytime&#x27;, &#x27;Failures&#x27;, &#x27;Famsup&#x27;, &#x27;Paid&#x27;, &#x27;Activities&#x27;, &#x27;HigherEdu&#x27;, &#x27;Internet&#x27;, &#x27;Famrel&#x27;, &#x27;Freetime&#x27;, &#x27;GoOut&#x27;, &#x27;Health&#x27;, &#x27;10th%&#x27;, &#x27;12thordiploma%&#x27;, &#x27;Internal&#x27;, &#x27;Prev cgpa&#x27;, &#x27;Eamcet Rank&#x27;]</pre></div></div></div><div class=\"sk-serial\"><div class=\"sk-item\"><div class=\"sk-estimator sk-toggleable\"><input class=\"sk-toggleable__control sk-hidden--visually\" id=\"70606e0a-1777-4a3b-8523-ba8266c487ca\" type=\"checkbox\" ><label for=\"70606e0a-1777-4a3b-8523-ba8266c487ca\" class=\"sk-toggleable__label sk-toggleable__label-arrow\">passthrough</label><div class=\"sk-toggleable__content\"><pre>passthrough</pre></div></div></div></div></div></div></div></div></div></div>"
      ],
      "text/plain": [
       "ColumnTransformer(remainder='passthrough',\n",
       "                  transformers=[('imputer1', SimpleImputer(), [28]),\n",
       "                                ('Eamcet_transformer',\n",
       "                                 FunctionTransformer(func=<function get_eamcet_grade at 0x000002752F221820>),\n",
       "                                 [28]),\n",
       "                                ('imputer2', SimpleImputer(), [29]),\n",
       "                                ('Ecet_transformer',\n",
       "                                 FunctionTransformer(func=<function get_ecet_grade at 0x0000027534BFA700>),\n",
       "                                 [29])])"
      ]
     },
     "execution_count": 35,
     "metadata": {},
     "output_type": "execute_result"
    }
   ],
   "source": [
    "pipe.named_steps['ctf1']"
   ]
  },
  {
   "cell_type": "code",
   "execution_count": 36,
   "id": "d3e0c7fe",
   "metadata": {},
   "outputs": [
    {
     "name": "stderr",
     "output_type": "stream",
     "text": [
      "C:\\ProgramData\\Anaconda3\\lib\\site-packages\\sklearn\\preprocessing\\_encoders.py:170: UserWarning: Found unknown categories in columns [3] during transform. These unknown categories will be encoded as all zeros\n",
      "  warnings.warn(\n"
     ]
    }
   ],
   "source": [
    "y_pred=pipe.predict(X_test) "
   ]
  },
  {
   "cell_type": "code",
   "execution_count": 37,
   "id": "1f656ebe",
   "metadata": {
    "scrolled": true
   },
   "outputs": [
    {
     "name": "stdout",
     "output_type": "stream",
     "text": [
      "R-squared: 0.8916\n",
      "MSE score: 0.1166\n",
      "MAE score: 0.2432\n",
      "RMSE score: 0.3414\n"
     ]
    }
   ],
   "source": [
    "from sklearn.metrics import r2_score, mean_squared_error, mean_absolute_error\n",
    "\n",
    "r2 = r2_score(y_test, y_pred)\n",
    "mse = mean_squared_error(y_test, y_pred)\n",
    "mae = mean_absolute_error(y_test, y_pred)\n",
    "rmse = mean_squared_error(y_test, y_pred, squared=False)\n",
    "\n",
    "print(\"R-squared: {:.4f}\".format(r2))\n",
    "print(\"MSE score: {:.4f}\".format(mse))\n",
    "print(\"MAE score: {:.4f}\".format(mae))\n",
    "print(\"RMSE score: {:.4f}\".format(rmse))\n"
   ]
  },
  {
   "cell_type": "code",
   "execution_count": 38,
   "id": "5094f4dc",
   "metadata": {},
   "outputs": [],
   "source": [
    "# y_pred"
   ]
  },
  {
   "cell_type": "markdown",
   "id": "ad83d62c",
   "metadata": {},
   "source": [
    "## Cross Validation Score"
   ]
  },
  {
   "cell_type": "code",
   "execution_count": 39,
   "id": "7d073962",
   "metadata": {},
   "outputs": [
    {
     "data": {
      "text/plain": [
       "0.7268770138264495"
      ]
     },
     "execution_count": 39,
     "metadata": {},
     "output_type": "execute_result"
    }
   ],
   "source": [
    "cross_val_score(pipe,X_train,y_train,cv=10,scoring='r2').mean()"
   ]
  },
  {
   "cell_type": "markdown",
   "id": "88986039",
   "metadata": {},
   "source": [
    "## Pickling The Model File For Deployment"
   ]
  },
  {
   "cell_type": "code",
   "execution_count": 40,
   "id": "c209219a",
   "metadata": {},
   "outputs": [],
   "source": [
    "import pickle\n",
    "pickle.dump(pipe,open('sapp_final_algo.pkl','wb'))"
   ]
  },
  {
   "cell_type": "code",
   "execution_count": 41,
   "id": "fe37fa12",
   "metadata": {},
   "outputs": [
    {
     "data": {
      "text/plain": [
       "array([9.1522])"
      ]
     },
     "execution_count": 41,
     "metadata": {},
     "output_type": "execute_result"
    }
   ],
   "source": [
    "pipe.predict(pd.DataFrame([['319126510001','FEMALE',  21  ,  'Urban'   ,     4    ,    'T'   ,\"higher education\",'higher education','Homemaker','civil services: administrative or police', 'Other' , '30min - 1hr', '1- <2 hr' ,     0     , 'Yes'  ,  'No' ,    'Yes'    ,     'No'   ,    'Yes'  ,'excellent',   'high'  ,'3 - medium','5 - very good',  93.1   ,       96.3      ,   90.23   ,    9.4    ,    18238.0    ,      0     ,                        0]],\n",
    "                    columns=['RollNo'      ,'Gender', 'Age', 'Location', 'Famsize', 'Pstatus',      'Medu'      ,       'Fedu'     ,   'Mjob'  ,                  'Fjob'                  , 'reason',  'traveltime', 'studytime', 'Failures','Famsup', 'Paid', 'Activities', 'HigherEdu', 'Internet', 'Famrel'  , 'Freetime',   'GoOut'  ,   'Health'    , '10th%' , '12thordiploma%', 'Internal','Prev cgpa',  'Eamcet Rank', 'Ecet Rank','Total_eamcet/ecet_grade']))"
   ]
  },
  {
   "cell_type": "code",
   "execution_count": null,
   "id": "bdf7b7a8",
   "metadata": {},
   "outputs": [],
   "source": []
  }
 ],
 "metadata": {
  "kernelspec": {
   "display_name": "Python 3 (ipykernel)",
   "language": "python",
   "name": "python3"
  },
  "language_info": {
   "codemirror_mode": {
    "name": "ipython",
    "version": 3
   },
   "file_extension": ".py",
   "mimetype": "text/x-python",
   "name": "python",
   "nbconvert_exporter": "python",
   "pygments_lexer": "ipython3",
   "version": "3.9.12"
  }
 },
 "nbformat": 4,
 "nbformat_minor": 5
}
